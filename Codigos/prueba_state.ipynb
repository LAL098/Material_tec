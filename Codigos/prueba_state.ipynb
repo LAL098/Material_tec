{
 "cells": [
  {
   "cell_type": "code",
   "execution_count": 3,
   "metadata": {},
   "outputs": [],
   "source": [
    "import math\n",
    "import numpy as np\n",
    "import pandas as pd"
   ]
  },
  {
   "cell_type": "code",
   "execution_count": 93,
   "metadata": {},
   "outputs": [],
   "source": [
    "def sigmoid(x):\n",
    "  return 1 / (1 + math.exp(-x))\n",
    "\n",
    "\n",
    "def state_creator(data, timestep, window_size):\n",
    "  \n",
    "  # starting day of our state\n",
    "  starting_id = timestep - window_size + 1\n",
    "  \n",
    "  if starting_id >= 0:\n",
    "    windowed_data = data[starting_id:timestep+1]\n",
    "  else:\n",
    "    # Replicate member (data[0]) needed times\n",
    "    windowed_data = - starting_id * [data.iloc[0]] + list(data[0:timestep+1])\n",
    "    \n",
    "  state = []\n",
    "  # Iterate trough whole windowed_data minus current state (-1)\n",
    "  for i in range(window_size - 1):\n",
    "    # Normalize the difference from current day and the next day\n",
    "    # Because the prices can be very different and we want them on same scale\n",
    "    state.append(sigmoid(windowed_data[0][i+1] - windowed_data[0][i]))\n",
    "    \n",
    "  return np.array([state])"
   ]
  },
  {
   "cell_type": "code",
   "execution_count": 71,
   "metadata": {},
   "outputs": [],
   "source": [
    "window_size = 10\n",
    "data = pd.read_parquet('resultadoIndicadores.parquet')\n",
    "data = data.drop(['EMA_5','EMA_63', 'EMA_63', 'WMA_63', 'MINUS_DM','PLUS_DI', 'AD', 'WMA_5'], axis=1)"
   ]
  },
  {
   "cell_type": "code",
   "execution_count": 96,
   "metadata": {},
   "outputs": [
    {
     "name": "stderr",
     "output_type": "stream",
     "text": [
      "C:\\Users\\Jesus\\AppData\\Local\\Temp\\ipykernel_4068\\3239670712.py:21: FutureWarning: Series.__getitem__ treating keys as positions is deprecated. In a future version, integer keys will always be treated as labels (consistent with DataFrame behavior). To access a value by position, use `ser.iloc[pos]`\n",
      "  state.append(sigmoid(windowed_data[0][i+1] - windowed_data[0][i]))\n"
     ]
    },
    {
     "ename": "IndexError",
     "evalue": "index 10 is out of bounds for axis 0 with size 10",
     "output_type": "error",
     "traceback": [
      "\u001b[1;31m---------------------------------------------------------------------------\u001b[0m",
      "\u001b[1;31mIndexError\u001b[0m                                Traceback (most recent call last)",
      "\u001b[1;32mc:\\Users\\Jesus\\Github\\Material_Tec\\Codigos\\prueba_state.ipynb Cell 4\u001b[0m line \u001b[0;36m1\n\u001b[1;32m----> <a href='vscode-notebook-cell:/c%3A/Users/Jesus/Github/Material_Tec/Codigos/prueba_state.ipynb#X30sZmlsZQ%3D%3D?line=0'>1</a>\u001b[0m state_creator(data, \u001b[39m0\u001b[39;49m, \u001b[39m11\u001b[39;49m)\n",
      "\u001b[1;32mc:\\Users\\Jesus\\Github\\Material_Tec\\Codigos\\prueba_state.ipynb Cell 4\u001b[0m line \u001b[0;36m2\n\u001b[0;32m     <a href='vscode-notebook-cell:/c%3A/Users/Jesus/Github/Material_Tec/Codigos/prueba_state.ipynb#X30sZmlsZQ%3D%3D?line=16'>17</a>\u001b[0m \u001b[39m# Iterate trough whole windowed_data minus current state (-1)\u001b[39;00m\n\u001b[0;32m     <a href='vscode-notebook-cell:/c%3A/Users/Jesus/Github/Material_Tec/Codigos/prueba_state.ipynb#X30sZmlsZQ%3D%3D?line=17'>18</a>\u001b[0m \u001b[39mfor\u001b[39;00m i \u001b[39min\u001b[39;00m \u001b[39mrange\u001b[39m(window_size \u001b[39m-\u001b[39m \u001b[39m1\u001b[39m):\n\u001b[0;32m     <a href='vscode-notebook-cell:/c%3A/Users/Jesus/Github/Material_Tec/Codigos/prueba_state.ipynb#X30sZmlsZQ%3D%3D?line=18'>19</a>\u001b[0m   \u001b[39m# Normalize the difference from current day and the next day\u001b[39;00m\n\u001b[0;32m     <a href='vscode-notebook-cell:/c%3A/Users/Jesus/Github/Material_Tec/Codigos/prueba_state.ipynb#X30sZmlsZQ%3D%3D?line=19'>20</a>\u001b[0m   \u001b[39m# Because the prices can be very different and we want them on same scale\u001b[39;00m\n\u001b[1;32m---> <a href='vscode-notebook-cell:/c%3A/Users/Jesus/Github/Material_Tec/Codigos/prueba_state.ipynb#X30sZmlsZQ%3D%3D?line=20'>21</a>\u001b[0m   state\u001b[39m.\u001b[39mappend(sigmoid(windowed_data[\u001b[39m0\u001b[39;49m][i\u001b[39m+\u001b[39;49m\u001b[39m1\u001b[39;49m] \u001b[39m-\u001b[39m windowed_data[\u001b[39m0\u001b[39m][i]))\n\u001b[0;32m     <a href='vscode-notebook-cell:/c%3A/Users/Jesus/Github/Material_Tec/Codigos/prueba_state.ipynb#X30sZmlsZQ%3D%3D?line=22'>23</a>\u001b[0m \u001b[39mreturn\u001b[39;00m np\u001b[39m.\u001b[39marray([state])\n",
      "File \u001b[1;32mc:\\Users\\Jesus\\miniconda3\\envs\\talib\\lib\\site-packages\\pandas\\core\\series.py:1037\u001b[0m, in \u001b[0;36mSeries.__getitem__\u001b[1;34m(self, key)\u001b[0m\n\u001b[0;32m   1027\u001b[0m \u001b[39mif\u001b[39;00m is_integer(key) \u001b[39mand\u001b[39;00m \u001b[39mself\u001b[39m\u001b[39m.\u001b[39mindex\u001b[39m.\u001b[39m_should_fallback_to_positional:\n\u001b[0;32m   1028\u001b[0m     warnings\u001b[39m.\u001b[39mwarn(\n\u001b[0;32m   1029\u001b[0m         \u001b[39m# GH#50617\u001b[39;00m\n\u001b[0;32m   1030\u001b[0m         \u001b[39m\"\u001b[39m\u001b[39mSeries.__getitem__ treating keys as positions is deprecated. \u001b[39m\u001b[39m\"\u001b[39m\n\u001b[1;32m   (...)\u001b[0m\n\u001b[0;32m   1035\u001b[0m         stacklevel\u001b[39m=\u001b[39mfind_stack_level(),\n\u001b[0;32m   1036\u001b[0m     )\n\u001b[1;32m-> 1037\u001b[0m     \u001b[39mreturn\u001b[39;00m \u001b[39mself\u001b[39;49m\u001b[39m.\u001b[39;49m_values[key]\n\u001b[0;32m   1039\u001b[0m \u001b[39melif\u001b[39;00m key_is_scalar:\n\u001b[0;32m   1040\u001b[0m     \u001b[39mreturn\u001b[39;00m \u001b[39mself\u001b[39m\u001b[39m.\u001b[39m_get_value(key)\n",
      "\u001b[1;31mIndexError\u001b[0m: index 10 is out of bounds for axis 0 with size 10"
     ]
    }
   ],
   "source": [
    "state_creator(data, 0, 11)"
   ]
  },
  {
   "cell_type": "code",
   "execution_count": 61,
   "metadata": {},
   "outputs": [
    {
     "data": {
      "text/plain": [
       "array([[0.45894275, 0.33071239, 0.48109581, 0.54126934, 0.59265915,\n",
       "        0.54929343, 0.08595002, 0.35559431, 0.77157366, 0.20149962]])"
      ]
     },
     "execution_count": 61,
     "metadata": {},
     "output_type": "execute_result"
    }
   ],
   "source": [
    "state = []\n",
    "for i in range(1):\n",
    "    state.append(sigmoid(data['SMA_5'][i+1] - data['SMA_5'][i]))\n",
    "    state.append(sigmoid(data['SMA_21'][i+1] - data['SMA_21'][i]))\n",
    "    state.append(sigmoid(data['SMA_63'][i+1] - data['SMA_63'][i]))\n",
    "    state.append(sigmoid(data['EMA_21'][i+1] - data['EMA_21'][i]))\n",
    "    state.append(sigmoid(data['WMA_21'][i+1] - data['WMA_21'][i]))\n",
    "    state.append(sigmoid(data['middle'][i+1] - data['middle'][i]))\n",
    "    state.append(sigmoid(data['PLUS_DM'][i+1] - data['PLUS_DM'][i]))\n",
    "    state.append(sigmoid(data['MINUS_DI'][i+1] - data['MINUS_DI'][i]))\n",
    "    state.append(sigmoid(data['SAR'][i+1] - data['SAR'][i]))\n",
    "    state.append(sigmoid(data['ADX'][i+1] - data['ADX'][i]))\n",
    "\n",
    "np.array([state])\n"
   ]
  },
  {
   "cell_type": "code",
   "execution_count": null,
   "metadata": {},
   "outputs": [],
   "source": []
  }
 ],
 "metadata": {
  "kernelspec": {
   "display_name": "talib",
   "language": "python",
   "name": "python3"
  },
  "language_info": {
   "codemirror_mode": {
    "name": "ipython",
    "version": 3
   },
   "file_extension": ".py",
   "mimetype": "text/x-python",
   "name": "python",
   "nbconvert_exporter": "python",
   "pygments_lexer": "ipython3",
   "version": "3.10.13"
  }
 },
 "nbformat": 4,
 "nbformat_minor": 2
}
